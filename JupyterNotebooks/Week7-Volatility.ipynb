{
 "cells": [
  {
   "cell_type": "code",
   "execution_count": 3,
   "metadata": {},
   "outputs": [
    {
     "name": "stderr",
     "output_type": "stream",
     "text": [
      "e:\\LocalFiles\\Academics\\2024-HKUST-ISOM\\2024-1\\ISOM4520\\BacktestingEngine\\venv\\lib\\site-packages\\yfinance\\utils.py:775: FutureWarning: The 'unit' keyword in TimedeltaIndex construction is deprecated and will be removed in a future version. Use pd.to_timedelta instead.\n",
      "  df.index += _pd.TimedeltaIndex(dst_error_hours, 'h')\n",
      "[*********************100%%**********************]  1 of 1 completed"
     ]
    },
    {
     "name": "stdout",
     "output_type": "stream",
     "text": [
      "                   Open         High          Low        Close      Volume\n",
      "Date                                                                      \n",
      "2010-01-04  1116.560059  1133.869995  1116.560059  1132.989990  3991400000\n",
      "2010-01-05  1132.660034  1136.630005  1129.660034  1136.520020  2491020000\n",
      "2010-01-06  1135.709961  1139.189941  1133.949951  1137.140015  4972660000\n",
      "2010-01-07  1136.270020  1142.459961  1131.319946  1141.689941  5270680000\n",
      "2010-01-08  1140.520020  1145.390015  1136.219971  1144.979980  4389590000\n"
     ]
    },
    {
     "name": "stderr",
     "output_type": "stream",
     "text": [
      "\n"
     ]
    }
   ],
   "source": [
    "## Get the ^GSPC data from Yahoo Finance\n",
    "\n",
    "import pandas as pd\n",
    "import numpy as np\n",
    "import matplotlib.pyplot as plt\n",
    "import datetime\n",
    "\n",
    "import yfinance as yf\n",
    "\n",
    "\n",
    "df = yf.download('^GSPC', start='2010-01-01', end='2020-12-31')\n",
    "df = df[['Open', 'High', 'Low', 'Close', 'Volume']]\n",
    "\n",
    "print (df.head())"
   ]
  },
  {
   "cell_type": "markdown",
   "metadata": {},
   "source": [
    "# Volatility estimate (Sample and EWMA)"
   ]
  },
  {
   "cell_type": "code",
   "execution_count": null,
   "metadata": {},
   "outputs": [],
   "source": [
    "df['returns'] = df['Close'].pct_change()"
   ]
  }
 ],
 "metadata": {
  "kernelspec": {
   "display_name": "venv",
   "language": "python",
   "name": "python3"
  },
  "language_info": {
   "codemirror_mode": {
    "name": "ipython",
    "version": 3
   },
   "file_extension": ".py",
   "mimetype": "text/x-python",
   "name": "python",
   "nbconvert_exporter": "python",
   "pygments_lexer": "ipython3",
   "version": "3.10.11"
  }
 },
 "nbformat": 4,
 "nbformat_minor": 2
}
